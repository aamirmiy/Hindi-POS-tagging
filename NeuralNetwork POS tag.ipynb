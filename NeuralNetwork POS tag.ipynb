{
 "cells": [
  {
   "cell_type": "markdown",
   "metadata": {
    "id": "36LRjVeK-Qch"
   },
   "source": [
    "# Hindi pos tagger using a neural network"
   ]
  },
  {
   "cell_type": "markdown",
   "metadata": {
    "id": "gU_YmQTqiVlJ"
   },
   "source": [
    "### Importing libraries and Loading Data\n"
   ]
  },
  {
   "cell_type": "code",
   "execution_count": null,
   "metadata": {
    "colab": {
     "base_uri": "https://localhost:8080/"
    },
    "id": "IcnaPDAV-LlC",
    "outputId": "5270bf37-bfb4-4a92-e804-f966807848f9"
   },
   "outputs": [
    {
     "name": "stdout",
     "output_type": "stream",
     "text": [
      "Collecting conllu\n",
      "  Downloading https://files.pythonhosted.org/packages/ae/be/be6959c3ff2dbfdd87de4be0ccdff577835b5d08b1d25bf7fd4aaf0d7add/conllu-4.4-py2.py3-none-any.whl\n",
      "Installing collected packages: conllu\n",
      "Successfully installed conllu-4.4\n"
     ]
    }
   ],
   "source": [
    "import numpy as np\n",
    "import pandas as pd\n",
    "import tensorflow as tf\n",
    "!pip install conllu"
   ]
  },
  {
   "cell_type": "code",
   "execution_count": null,
   "metadata": {
    "id": "f2hERuC-AsEc"
   },
   "outputs": [],
   "source": [
    "from conllu import parse_incr\n",
    "from io import open\n",
    "train_file=open('/hi_hdtb-ud-train.conllu','r',encoding='utf-8')\n",
    "train_files=[]\n",
    "for tokenlist in parse_incr(train_file):\n",
    "    train_files.append(tokenlist)"
   ]
  },
  {
   "cell_type": "code",
   "execution_count": null,
   "metadata": {
    "id": "Z8JoKH63IWI_"
   },
   "outputs": [],
   "source": [
    "val_file=open('/hi_hdtb-ud-dev.conllu','r',encoding='utf-8')\n",
    "val_files=[]\n",
    "for tokenlist in parse_incr(val_file):\n",
    "    val_files.append(tokenlist)"
   ]
  },
  {
   "cell_type": "code",
   "execution_count": null,
   "metadata": {
    "id": "i4OMOAFgKF-2"
   },
   "outputs": [],
   "source": [
    "test_file=open('/hi_hdtb-ud-test.conllu','r',encoding='utf-8')\n",
    "test_files=[]\n",
    "for tokenlist in parse_incr(test_file):\n",
    "    test_files.append(tokenlist)"
   ]
  },
  {
   "cell_type": "code",
   "execution_count": null,
   "metadata": {
    "id": "f90HYDnDKZI_"
   },
   "outputs": [],
   "source": [
    "def dataset(ud_files):\n",
    "  bank=[]\n",
    "  for sentence in ud_files:\n",
    "      tokens=[]\n",
    "      tags=[]\n",
    "      \n",
    "      for token in sentence:\n",
    "          tokens.append(token['form'])\n",
    "          tags.append(token['upostag'])\n",
    "          \n",
    "      bank.append((tokens,tags))\n",
    "  return bank"
   ]
  },
  {
   "cell_type": "code",
   "execution_count": null,
   "metadata": {
    "id": "ROS75RApMdnN"
   },
   "outputs": [],
   "source": [
    "train_bank=dataset(train_files)\n",
    "test_bank = dataset(test_files)\n",
    "val_bank = dataset(val_files)"
   ]
  },
  {
   "cell_type": "code",
   "execution_count": null,
   "metadata": {
    "colab": {
     "base_uri": "https://localhost:8080/"
    },
    "id": "Wn-90EOjMniV",
    "outputId": "895646f3-2f69-4dd0-9614-1e9c715ce618"
   },
   "outputs": [
    {
     "data": {
      "text/plain": [
       "(13304, 1684, 1659)"
      ]
     },
     "execution_count": 11,
     "metadata": {
      "tags": []
     },
     "output_type": "execute_result"
    }
   ],
   "source": [
    "\n",
    "len(train_bank),len(test_bank),len(val_bank)"
   ]
  },
  {
   "cell_type": "code",
   "execution_count": null,
   "metadata": {
    "id": "r4QgjBWSMuBa"
   },
   "outputs": [],
   "source": [
    "def separate(bank):\n",
    "    X,y=[],[]\n",
    "    for index in range(len(bank)):\n",
    "        X.append(bank[index][0])\n",
    "        y.append(bank[index][1])\n",
    "    return X,y"
   ]
  },
  {
   "cell_type": "code",
   "execution_count": null,
   "metadata": {
    "id": "uS9s7e87M2K8"
   },
   "outputs": [],
   "source": [
    "Xtrain,ytrain=separate(train_bank)\n",
    "Xdev,ydev=separate(val_bank)\n",
    "Xtest,ytest=separate(test_bank)"
   ]
  },
  {
   "cell_type": "markdown",
   "metadata": {
    "id": "AMsWpaBoidKr"
   },
   "source": [
    "### Loading word embeddings"
   ]
  },
  {
   "cell_type": "code",
   "execution_count": null,
   "metadata": {
    "colab": {
     "base_uri": "https://localhost:8080/"
    },
    "id": "ChuUosew4mmK",
    "outputId": "4a8d0fff-9963-443f-f660-6327525c5529"
   },
   "outputs": [
    {
     "name": "stdout",
     "output_type": "stream",
     "text": [
      "--2021-05-27 03:50:13--  https://www.dropbox.com/s/pq50ca4o3phi9ks/hi.tar.gz?dl=0\n",
      "Resolving www.dropbox.com (www.dropbox.com)... 162.125.6.18, 2620:100:601c:18::a27d:612\n",
      "Connecting to www.dropbox.com (www.dropbox.com)|162.125.6.18|:443... connected.\n",
      "HTTP request sent, awaiting response... 301 Moved Permanently\n",
      "Location: /s/raw/pq50ca4o3phi9ks/hi.tar.gz [following]\n",
      "--2021-05-27 03:50:14--  https://www.dropbox.com/s/raw/pq50ca4o3phi9ks/hi.tar.gz\n",
      "Reusing existing connection to www.dropbox.com:443.\n",
      "HTTP request sent, awaiting response... 302 Found\n",
      "Location: https://uc24707568c9eba3ea88d2c5633e.dl.dropboxusercontent.com/cd/0/inline/BPTIAQ3TnPqtOvm4-orCwYtkY72oM4SwY0R76kBfEkxPlZ0QznTclxIqtE7C5MkHUl4TKx58OyoC0DIQKf5_ZU9WM_gAgn32PiZdLDiKeNejSfMbPq5ZSmN34AkXjdcO-RSx1WtRKt8Q-CpXfkDCcm-H/file# [following]\n",
      "--2021-05-27 03:50:14--  https://uc24707568c9eba3ea88d2c5633e.dl.dropboxusercontent.com/cd/0/inline/BPTIAQ3TnPqtOvm4-orCwYtkY72oM4SwY0R76kBfEkxPlZ0QznTclxIqtE7C5MkHUl4TKx58OyoC0DIQKf5_ZU9WM_gAgn32PiZdLDiKeNejSfMbPq5ZSmN34AkXjdcO-RSx1WtRKt8Q-CpXfkDCcm-H/file\n",
      "Resolving uc24707568c9eba3ea88d2c5633e.dl.dropboxusercontent.com (uc24707568c9eba3ea88d2c5633e.dl.dropboxusercontent.com)... 162.125.6.15, 2620:100:6019:15::a27d:40f\n",
      "Connecting to uc24707568c9eba3ea88d2c5633e.dl.dropboxusercontent.com (uc24707568c9eba3ea88d2c5633e.dl.dropboxusercontent.com)|162.125.6.15|:443... connected.\n",
      "HTTP request sent, awaiting response... 302 Found\n",
      "Location: /cd/0/inline2/BPSdUxUL_mNcb5-jtKj3fKfcWoMz6bd8TmakNlz0omyDasqWqTdr5ZoDjTwpUHBoGV2n9xCU20UZdXIwcpGuX_96_Ldi3HAAODo_0aj2zYlN2tbkx0DafOjzX48au1Y_WZvSpt_jkFEUSglzcd1SBdTvfje8PJh3mS_jbXT73NNtW_IQadXseOAu6nwlUUqs7bSZ37JTOZRikU6Xz8ew7wqclB0TwsKwGavZ0l_5a2esfNQGgKkLbjNbwTJZ2XKSHgQTim0b2407xFVMgGWFJ6DG1tTs0JE3EpK6lTIGIkHtIYtlYxSs13PxVamiLCJi7zeyItms4OcvvayeRDO1sv3_J55uz5e59MeOIeh7KAbwyZB9xgcWKlnpYkIqhyxhdDg/file [following]\n",
      "--2021-05-27 03:50:15--  https://uc24707568c9eba3ea88d2c5633e.dl.dropboxusercontent.com/cd/0/inline2/BPSdUxUL_mNcb5-jtKj3fKfcWoMz6bd8TmakNlz0omyDasqWqTdr5ZoDjTwpUHBoGV2n9xCU20UZdXIwcpGuX_96_Ldi3HAAODo_0aj2zYlN2tbkx0DafOjzX48au1Y_WZvSpt_jkFEUSglzcd1SBdTvfje8PJh3mS_jbXT73NNtW_IQadXseOAu6nwlUUqs7bSZ37JTOZRikU6Xz8ew7wqclB0TwsKwGavZ0l_5a2esfNQGgKkLbjNbwTJZ2XKSHgQTim0b2407xFVMgGWFJ6DG1tTs0JE3EpK6lTIGIkHtIYtlYxSs13PxVamiLCJi7zeyItms4OcvvayeRDO1sv3_J55uz5e59MeOIeh7KAbwyZB9xgcWKlnpYkIqhyxhdDg/file\n",
      "Reusing existing connection to uc24707568c9eba3ea88d2c5633e.dl.dropboxusercontent.com:443.\n",
      "HTTP request sent, awaiting response... 200 OK\n",
      "Length: 2336297936 (2.2G) [application/octet-stream]\n",
      "Saving to: ‘hi.tar.gz’\n",
      "\n",
      "hi.tar.gz           100%[===================>]   2.18G  87.0MB/s    in 27s     \n",
      "\n",
      "2021-05-27 03:50:42 (83.3 MB/s) - ‘hi.tar.gz’ saved [2336297936/2336297936]\n",
      "\n"
     ]
    }
   ],
   "source": [
    "!wget -O hi.tar.gz https://www.dropbox.com/s/pq50ca4o3phi9ks/hi.tar.gz?dl=0"
   ]
  },
  {
   "cell_type": "code",
   "execution_count": null,
   "metadata": {
    "id": "y0bv9YBx_unv"
   },
   "outputs": [],
   "source": [
    "!gzip -d /content/hi.tar.gz"
   ]
  },
  {
   "cell_type": "code",
   "execution_count": null,
   "metadata": {
    "colab": {
     "base_uri": "https://localhost:8080/"
    },
    "id": "5TKykeMgAOOp",
    "outputId": "f40b2451-4b6e-4848-906b-599bb22aba91"
   },
   "outputs": [
    {
     "name": "stdout",
     "output_type": "stream",
     "text": [
      "fasttext.pkl  hi.bin  hi.tar  hi.tar.gz  hi.vec  sample_data\n"
     ]
    }
   ],
   "source": [
    "!ls"
   ]
  },
  {
   "cell_type": "code",
   "execution_count": null,
   "metadata": {
    "colab": {
     "base_uri": "https://localhost:8080/"
    },
    "id": "DCiT6cWiAquT",
    "outputId": "9dfdfe12-5f10-407c-f5c6-c96afa202e52"
   },
   "outputs": [
    {
     "name": "stdout",
     "output_type": "stream",
     "text": [
      "hi.bin\n",
      "hi.vec\n"
     ]
    }
   ],
   "source": [
    "!tar -xvf /content/hi.tar"
   ]
  },
  {
   "cell_type": "code",
   "execution_count": null,
   "metadata": {
    "id": "b99BIpitQy6p"
   },
   "outputs": [],
   "source": [
    "embeddings_index={}\n",
    "with open('/content/hi.vec',encoding=\"utf8\") as glove_file:\n",
    "  for line in glove_file:\n",
    "        values = line.split()\n",
    "        word = values[0]\n",
    "        \n",
    "        coefs = np.asarray(values[1:], dtype='float32')\n",
    "        embeddings_index[word] = coefs"
   ]
  },
  {
   "cell_type": "code",
   "execution_count": null,
   "metadata": {
    "id": "7wpGNS3HT8mO"
   },
   "outputs": [],
   "source": [
    "import pickle\n",
    "filename='fasttext.pkl'\n",
    "pickle.dump(embeddings_index,open(filename,'wb'))"
   ]
  },
  {
   "cell_type": "markdown",
   "metadata": {
    "id": "xo8VEA89is5v"
   },
   "source": [
    "### Creating word and tag dictionaries"
   ]
  },
  {
   "cell_type": "code",
   "execution_count": null,
   "metadata": {
    "id": "pdX0O-DvzL_n"
   },
   "outputs": [],
   "source": [
    "word=embeddings_index.keys()"
   ]
  },
  {
   "cell_type": "code",
   "execution_count": null,
   "metadata": {
    "id": "P30I633nIwnQ"
   },
   "outputs": [],
   "source": [
    "word=list(word)"
   ]
  },
  {
   "cell_type": "code",
   "execution_count": null,
   "metadata": {
    "id": "68dAHUj3I1cl"
   },
   "outputs": [],
   "source": [
    "word2id={k:word.index(k) for k in word}  # Creating word to index dictionary"
   ]
  },
  {
   "cell_type": "code",
   "execution_count": null,
   "metadata": {
    "id": "rZ_JHjh5SD9r"
   },
   "outputs": [],
   "source": [
    "def flatten(y):\n",
    "  l=[]\n",
    "  for i in y:\n",
    "    for j in i:\n",
    "      l.append(j)\n",
    "  return l"
   ]
  },
  {
   "cell_type": "code",
   "execution_count": null,
   "metadata": {},
   "outputs": [],
   "source": [
    "xflat=list(flatten(Xtrain))"
   ]
  },
  {
   "cell_type": "code",
   "execution_count": null,
   "metadata": {
    "id": "WzzfkfDwUE60"
   },
   "outputs": [],
   "source": [
    "y=ytrain"
   ]
  },
  {
   "cell_type": "code",
   "execution_count": null,
   "metadata": {
    "id": "khh7CpFIUGWn"
   },
   "outputs": [],
   "source": [
    "y=list(flatten(y))"
   ]
  },
  {
   "cell_type": "code",
   "execution_count": null,
   "metadata": {
    "colab": {
     "base_uri": "https://localhost:8080/"
    },
    "id": "zGLW66kFYEAm",
    "outputId": "afb603e3-eb73-4cf4-97d8-c560eb92426c"
   },
   "outputs": [
    {
     "data": {
      "text/plain": [
       "281057"
      ]
     },
     "execution_count": 20,
     "metadata": {
      "tags": []
     },
     "output_type": "execute_result"
    }
   ],
   "source": [
    "len(y)"
   ]
  },
  {
   "cell_type": "code",
   "execution_count": null,
   "metadata": {
    "id": "Gag69bhVz4Ro"
   },
   "outputs": [],
   "source": [
    "tag2int={} #Creating tag to index dictionary\n",
    "for item in y: \n",
    "  tag=item\n",
    "  tag2int.setdefault(tag,len(tag2int))"
   ]
  },
  {
   "cell_type": "code",
   "execution_count": null,
   "metadata": {
    "colab": {
     "base_uri": "https://localhost:8080/"
    },
    "id": "VgtRtSX4z_AM",
    "outputId": "b31fdeaa-75fd-4124-c09c-da99a8f3bf1a"
   },
   "outputs": [
    {
     "data": {
      "text/plain": [
       "16"
      ]
     },
     "execution_count": 23,
     "metadata": {
      "tags": []
     },
     "output_type": "execute_result"
    }
   ],
   "source": [
    "len(tag2int)"
   ]
  },
  {
   "cell_type": "markdown",
   "metadata": {
    "id": "cNnGqJEAsluo"
   },
   "source": [
    "### Creating Embedding matrix and handling unknown words."
   ]
  },
  {
   "cell_type": "code",
   "execution_count": null,
   "metadata": {
    "id": "vTuro53DmC7P"
   },
   "outputs": [],
   "source": [
    "EMBEDDING_DIM=300\n",
    "embedding_matrix = np.zeros((len(word2id)+1,EMBEDDING_DIM))\n",
    "for word,i in word2id.items():\n",
    "  embedding_vector = embeddings_index.get(word)\n",
    "  if embedding_vector is not None:\n",
    "    embedding_matrix[i]=embedding_vector"
   ]
  },
  {
   "cell_type": "code",
   "execution_count": null,
   "metadata": {
    "id": "W3OlAD-KY48E"
   },
   "outputs": [],
   "source": [
    "def add_new_word(new_word,new_vector,new_index,embedding_matrix,word2id):\n",
    "  embedding_matrix = np.insert(embedding_matrix, [new_index],[new_vector],axis=0)\n",
    "  word2id = {word:(index+1) if index>=new_index else index for word,index in word2id.items()}\n",
    "  word2id[new_word] = new_index\n",
    "  return embedding_matrix,word2id\n",
    "  "
   ]
  },
  {
   "cell_type": "code",
   "execution_count": null,
   "metadata": {
    "id": "LwrdG-clovOm"
   },
   "outputs": [],
   "source": [
    "UNK_index = 0               #handling unknown words. If a word is not present in the dictionary then it is assigned 0 as id\n",
    "UNK_token = \"UNK\"\n",
    "unk_vector = embedding_matrix.mean(0)\n",
    "embedding_matrix,word2id = add_new_word(UNK_token,unk_vector,UNK_index,embedding_matrix,word2id)"
   ]
  },
  {
   "cell_type": "code",
   "execution_count": null,
   "metadata": {
    "id": "opdpTpFMwEXd"
   },
   "outputs": [],
   "source": [
    "def prepare_data(X,Y,word2id,tag2int):\n",
    "  x,y=[],[]\n",
    "  unk_count = 0\n",
    "  for v in range(len(X)):\n",
    "    for data in range(len(X[v])):\n",
    "        i=X[v][data]\n",
    "        word = i\n",
    "        tag = Y[v][data]\n",
    "        y.append(tag2int.get(tag))\n",
    "        if word in word2id:\n",
    "          x.append(word2id.get(word))\n",
    "        else:\n",
    "          x.append(UNK_index)\n",
    "          unk_count+=1\n",
    "  print(\"Data created.Unknown data percentage: %.3f\" % (unk_count/len(xflat)))\n",
    "  return np.array(x),np.array(y)\n",
    "\n",
    "    "
   ]
  },
  {
   "cell_type": "code",
   "execution_count": null,
   "metadata": {
    "colab": {
     "base_uri": "https://localhost:8080/"
    },
    "id": "Y9-UK_a10E46",
    "outputId": "fb5b98ed-a52d-46dc-f733-bfedfdb50b3a"
   },
   "outputs": [
    {
     "name": "stdout",
     "output_type": "stream",
     "text": [
      "Data created.Unknown data percentage: 0.059\n"
     ]
    }
   ],
   "source": [
    "x_train,y_train=prepare_data(Xtrain,ytrain,word2id,tag2int)"
   ]
  },
  {
   "cell_type": "code",
   "execution_count": null,
   "metadata": {
    "colab": {
     "base_uri": "https://localhost:8080/"
    },
    "id": "10ZbKRUa0P-7",
    "outputId": "22e7aa66-4c61-42a5-ba6e-3f5ad83323d9"
   },
   "outputs": [
    {
     "name": "stdout",
     "output_type": "stream",
     "text": [
      "Data created.Unknown data percentage: 0.063\n"
     ]
    }
   ],
   "source": [
    "x_test,y_test=prepare_data(Xtest,ytest,word2id,tag2int)\n"
   ]
  },
  {
   "cell_type": "code",
   "execution_count": null,
   "metadata": {
    "colab": {
     "base_uri": "https://localhost:8080/"
    },
    "id": "WoLw8XhE0kCV",
    "outputId": "d5d49a36-a4ca-4d63-a86c-7c5c312e78f6"
   },
   "outputs": [
    {
     "name": "stdout",
     "output_type": "stream",
     "text": [
      "Data created.Unknown data percentage: 0.059\n"
     ]
    }
   ],
   "source": [
    "x_val,y_val = prepare_data(Xdev,ydev,word2id,tag2int)"
   ]
  },
  {
   "cell_type": "markdown",
   "metadata": {
    "id": "39IPJBlC03-R"
   },
   "source": [
    "### Creating Model and training"
   ]
  },
  {
   "cell_type": "code",
   "execution_count": null,
   "metadata": {
    "colab": {
     "base_uri": "https://localhost:8080/"
    },
    "id": "Rbntubaj0wd1",
    "outputId": "1724b743-7c33-48b3-d88f-0448fb768cb8"
   },
   "outputs": [
    {
     "name": "stdout",
     "output_type": "stream",
     "text": [
      "Collecting np_utils\n",
      "\u001b[?25l  Downloading https://files.pythonhosted.org/packages/b6/18/5704a782fd72727a9e63198fcc76fadb86975f45bcdf579c10f668329508/np_utils-0.5.12.1.tar.gz (61kB)\n",
      "\r",
      "\u001b[K     |█████▍                          | 10kB 15.9MB/s eta 0:00:01\r",
      "\u001b[K     |██████████▊                     | 20kB 21.1MB/s eta 0:00:01\r",
      "\u001b[K     |████████████████                | 30kB 24.4MB/s eta 0:00:01\r",
      "\u001b[K     |█████████████████████▍          | 40kB 26.3MB/s eta 0:00:01\r",
      "\u001b[K     |██████████████████████████▊     | 51kB 28.6MB/s eta 0:00:01\r",
      "\u001b[K     |████████████████████████████████| 61kB 6.8MB/s \n",
      "\u001b[?25hRequirement already satisfied: numpy>=1.0 in /usr/local/lib/python3.7/dist-packages (from np_utils) (1.19.5)\n",
      "Requirement already satisfied: future>=0.16 in /usr/local/lib/python3.7/dist-packages (from np_utils) (0.16.0)\n",
      "Building wheels for collected packages: np-utils\n",
      "  Building wheel for np-utils (setup.py) ... \u001b[?25l\u001b[?25hdone\n",
      "  Created wheel for np-utils: filename=np_utils-0.5.12.1-cp37-none-any.whl size=57126 sha256=c54f3e59572a473f8f08898f29d9d6fd46e8bddfa055eaed304ba46c0b5dda42\n",
      "  Stored in directory: /root/.cache/pip/wheels/92/4b/81/206efd0d01330a96f3aebe5021d2d5f0b264b7ade827c306ef\n",
      "Successfully built np-utils\n",
      "Installing collected packages: np-utils\n",
      "Successfully installed np-utils-0.5.12.1\n"
     ]
    }
   ],
   "source": [
    "from keras.layers import Dense, Embedding, Activation, Flatten\n",
    "from keras.models import Sequential\n",
    "!pip install np_utils\n",
    "from keras.utils.np_utils import to_categorical"
   ]
  },
  {
   "cell_type": "code",
   "execution_count": null,
   "metadata": {
    "id": "mZRiQqoK0-N8"
   },
   "outputs": [],
   "source": [
    "y_train, y_test,y_val = to_categorical(y_train), to_categorical(y_test),to_categorical(y_val)"
   ]
  },
  {
   "cell_type": "code",
   "execution_count": null,
   "metadata": {
    "id": "IBmMyeH99Kmd"
   },
   "outputs": [],
   "source": [
    "import collections"
   ]
  },
  {
   "cell_type": "code",
   "execution_count": null,
   "metadata": {
    "id": "4kZbBG6RYoAX"
   },
   "outputs": [],
   "source": [
    "ytrainflat=list(flatten(ytrain))\n",
    "ytestflat=list(flatten(ytest))\n",
    "ydevflat=list(flatten(ydev))"
   ]
  },
  {
   "cell_type": "code",
   "execution_count": null,
   "metadata": {
    "colab": {
     "base_uri": "https://localhost:8080/"
    },
    "id": "CtqKwi5sBO3V",
    "outputId": "4a6a24cb-1ad7-4452-b25a-d4d031238719"
   },
   "outputs": [
    {
     "name": "stdout",
     "output_type": "stream",
     "text": [
      "Model: \"sequential\"\n",
      "_________________________________________________________________\n",
      "Layer (type)                 Output Shape              Param #   \n",
      "=================================================================\n",
      "embedding (Embedding)        (None, 1, 300)            9119400   \n",
      "_________________________________________________________________\n",
      "flatten (Flatten)            (None, 300)               0         \n",
      "_________________________________________________________________\n",
      "dense (Dense)                (None, 50)                15050     \n",
      "_________________________________________________________________\n",
      "dense_1 (Dense)              (None, 16)                816       \n",
      "=================================================================\n",
      "Total params: 9,135,266\n",
      "Trainable params: 9,135,266\n",
      "Non-trainable params: 0\n",
      "_________________________________________________________________\n"
     ]
    }
   ],
   "source": [
    "\n",
    "hidden_size = 50\n",
    "batch_size = 128\n",
    "\n",
    "def define_model(embedding_matrix, class_count):\n",
    "    \"\"\"\n",
    "    Takes one word as input and returns its part of speech\n",
    "    \"\"\"\n",
    "    vocab_length = len(embedding_matrix)\n",
    "    model = Sequential()\n",
    "    # Input dimension would be length of our vocabulary, output would be 300 dimensional embedding\n",
    "    # We load our pretrainned word2vec weights and set the input size to be 1\n",
    "    model.add(Embedding(input_dim=vocab_length,output_dim=300,weights=[embedding_matrix],input_length=1))\n",
    "    model.add(Flatten())\n",
    "    model.add(Dense(hidden_size,activation=\"tanh\"))\n",
    "    model.add(Dense(class_count,activation=\"softmax\"))\n",
    "    model.compile(optimizer=\"Adam\",loss=\"categorical_crossentropy\",metrics=[\"accuracy\"])\n",
    "    return model\n",
    "\n",
    "pos_model = define_model(embedding_matrix, len(tag2int))\n",
    "pos_model.summary()"
   ]
  },
  {
   "cell_type": "code",
   "execution_count": null,
   "metadata": {
    "colab": {
     "base_uri": "https://localhost:8080/"
    },
    "id": "i57U6dpZCH-9",
    "outputId": "863fcdee-c52a-47df-b98e-4126394a142a"
   },
   "outputs": [
    {
     "name": "stdout",
     "output_type": "stream",
     "text": [
      "2196/2196 [==============================] - 187s 85ms/step - loss: 0.2748 - accuracy: 0.8980\n"
     ]
    },
    {
     "data": {
      "text/plain": [
       "<keras.callbacks.History at 0x7fcc9ae84210>"
      ]
     },
     "execution_count": 61,
     "metadata": {
      "tags": []
     },
     "output_type": "execute_result"
    }
   ],
   "source": [
    "pos_model.fit(x_train,y_train,epochs=1,verbose=1,batch_size=batch_size)"
   ]
  },
  {
   "cell_type": "code",
   "execution_count": null,
   "metadata": {},
   "outputs": [],
   "source": [
    "id2tag = {v:k for k,v in tag2int.items()}"
   ]
  },
  {
   "cell_type": "markdown",
   "metadata": {},
   "source": [
    "### Evaluating performance"
   ]
  },
  {
   "cell_type": "code",
   "execution_count": null,
   "metadata": {
    "id": "itI8HROlEk9l"
   },
   "outputs": [],
   "source": [
    "prediction = pos_model.predict(x_test) #test set"
   ]
  },
  {
   "cell_type": "code",
   "execution_count": null,
   "metadata": {
    "id": "OYN_fvAYE8pp"
   },
   "outputs": [],
   "source": [
    "num=prediction.shape[0]\n",
    "l=[]\n",
    "for i in range(num):\n",
    "  l.append(id2tag[np.argmax(prediction[i])])"
   ]
  },
  {
   "cell_type": "code",
   "execution_count": null,
   "metadata": {
    "colab": {
     "base_uri": "https://localhost:8080/"
    },
    "id": "NVHQ5u4sFxDV",
    "outputId": "8ab722e5-a178-467f-d0d4-34b5b047b275"
   },
   "outputs": [
    {
     "data": {
      "text/plain": [
       "0.8875529212531753"
      ]
     },
     "execution_count": 80,
     "metadata": {
      "tags": []
     },
     "output_type": "execute_result"
    }
   ],
   "source": [
    "from sklearn.metrics import accuracy_score\n",
    "accuracy_score(ytestflat,l)"
   ]
  },
  {
   "cell_type": "code",
   "execution_count": null,
   "metadata": {
    "id": "WLOYKnEvGzTN"
   },
   "outputs": [],
   "source": [
    "predictiontrain=pos_model.predict(x_train) #train set"
   ]
  },
  {
   "cell_type": "code",
   "execution_count": null,
   "metadata": {
    "id": "yWj6V5aoG_Tv"
   },
   "outputs": [],
   "source": [
    "ytrainflat=flatten(ytrain)"
   ]
  },
  {
   "cell_type": "code",
   "execution_count": null,
   "metadata": {
    "id": "o7CLO1UbHC4V"
   },
   "outputs": [],
   "source": [
    "num=predictiontrain.shape[0]\n",
    "l=[]\n",
    "for i in range(num):\n",
    "  l.append(id2tag[np.argmax(predictiontrain[i])])"
   ]
  },
  {
   "cell_type": "code",
   "execution_count": null,
   "metadata": {
    "colab": {
     "base_uri": "https://localhost:8080/"
    },
    "id": "Vq8WBnT0HJmS",
    "outputId": "929b2756-2df5-4b2e-e63d-c3a90152365e"
   },
   "outputs": [
    {
     "data": {
      "text/plain": [
       "0.903240267988344"
      ]
     },
     "execution_count": 85,
     "metadata": {
      "tags": []
     },
     "output_type": "execute_result"
    }
   ],
   "source": [
    "accuracy_score(ytrainflat,l)"
   ]
  },
  {
   "cell_type": "code",
   "execution_count": null,
   "metadata": {
    "id": "UQCR9_5NHOCM"
   },
   "outputs": [],
   "source": [
    "predictiondev=pos_model.predict(x_val) #validation set"
   ]
  },
  {
   "cell_type": "code",
   "execution_count": null,
   "metadata": {
    "id": "ST39ixk9HVMR"
   },
   "outputs": [],
   "source": [
    "yvalflat=flatten(ydev)"
   ]
  },
  {
   "cell_type": "code",
   "execution_count": null,
   "metadata": {
    "id": "CUDszTC6Hirt"
   },
   "outputs": [],
   "source": [
    "num=predictiondev.shape[0]\n",
    "l=[]\n",
    "for i in range(num):\n",
    "  l.append(id2tag[np.argmax(predictiondev[i])])"
   ]
  },
  {
   "cell_type": "code",
   "execution_count": null,
   "metadata": {
    "colab": {
     "base_uri": "https://localhost:8080/"
    },
    "id": "812x1_EwHnWP",
    "outputId": "79fe1163-9f5c-4e40-b9e6-dc8aab800453"
   },
   "outputs": [
    {
     "data": {
      "text/plain": [
       "0.8862197234290258"
      ]
     },
     "execution_count": 91,
     "metadata": {
      "tags": []
     },
     "output_type": "execute_result"
    }
   ],
   "source": [
    "accuracy_score(yvalflat,l)"
   ]
  },
  {
   "cell_type": "markdown",
   "metadata": {
    "id": "fS3YeScOKPNL"
   },
   "source": [
    "### Testing the model"
   ]
  },
  {
   "cell_type": "code",
   "execution_count": null,
   "metadata": {
    "colab": {
     "base_uri": "https://localhost:8080/"
    },
    "id": "MmtAtBIVInZz",
    "outputId": "b13abf4a-02f6-49dd-9bc2-5a9af6821979"
   },
   "outputs": [
    {
     "name": "stdout",
     "output_type": "stream",
     "text": [
      "[nltk_data] Downloading package punkt to /root/nltk_data...\n",
      "[nltk_data]   Package punkt is already up-to-date!\n"
     ]
    }
   ],
   "source": [
    "import nltk\n",
    "nltk.download('punkt')\n",
    "from nltk.tokenize import word_tokenize"
   ]
  },
  {
   "cell_type": "code",
   "execution_count": null,
   "metadata": {
    "id": "ZuWzAmQMIbeo"
   },
   "outputs": [],
   "source": [
    "sentence = \"भारत की राजधानी दिल्ली है ।\""
   ]
  },
  {
   "cell_type": "code",
   "execution_count": null,
   "metadata": {
    "id": "OPgFn-XUIsj1"
   },
   "outputs": [],
   "source": [
    "sentence=word_tokenize(sentence)"
   ]
  },
  {
   "cell_type": "code",
   "execution_count": null,
   "metadata": {
    "colab": {
     "base_uri": "https://localhost:8080/"
    },
    "id": "6_uENX88I2H4",
    "outputId": "8e247ced-1a73-41d6-bd49-f0c4ec438dc2"
   },
   "outputs": [
    {
     "data": {
      "text/plain": [
       "['भारत', 'की', 'राजधानी', 'दिल्ली', 'है', '।']"
      ]
     },
     "execution_count": 211,
     "metadata": {
      "tags": []
     },
     "output_type": "execute_result"
    }
   ],
   "source": [
    "sentence"
   ]
  },
  {
   "cell_type": "code",
   "execution_count": null,
   "metadata": {
    "colab": {
     "base_uri": "https://localhost:8080/"
    },
    "id": "YNfUSmFDJ3qf",
    "outputId": "3c02ea2a-85c0-482c-c3ac-d720f6e33d2a"
   },
   "outputs": [],
   "source": [
    "test_set=[]\n",
    "for ele in sentence:\n",
    "  try:\n",
    "    test_set.append(word2id[ele])\n",
    "  except KeyError:\n",
    "    test_set.append(word2id[\"UNK\"])\n",
    "\n",
    "test_set=np.array(test_set)"
   ]
  },
  {
   "cell_type": "code",
   "execution_count": null,
   "metadata": {
    "id": "N4S9XG6-K7d8"
   },
   "outputs": [],
   "source": [
    "pred=pos_model.predict(test_set)"
   ]
  },
  {
   "cell_type": "code",
   "execution_count": null,
   "metadata": {
    "id": "YFe5wuwRK_1b"
   },
   "outputs": [],
   "source": [
    "num=pred.shape[0]\n",
    "l=[]\n",
    "for i in range(num):\n",
    "  l.append(id2tag[np.argmax(pred[i])])\n"
   ]
  },
  {
   "cell_type": "code",
   "execution_count": null,
   "metadata": {
    "colab": {
     "base_uri": "https://localhost:8080/"
    },
    "id": "v92j5nLQXMrj",
    "outputId": "9d0c0a02-c62e-406b-be75-73bfced36917"
   },
   "outputs": [
    {
     "data": {
      "text/plain": [
       "['PROPN', 'ADP', 'NOUN', 'PROPN', 'AUX', 'PUNCT']"
      ]
     },
     "execution_count": 217,
     "metadata": {
      "tags": []
     },
     "output_type": "execute_result"
    }
   ],
   "source": [
    "l"
   ]
  },
  {
   "cell_type": "code",
   "execution_count": null,
   "metadata": {
    "id": "jWup_KziLj7R"
   },
   "outputs": [],
   "source": [
    "pos_model.save('postag.h5')"
   ]
  }
 ],
 "metadata": {
  "colab": {
   "collapsed_sections": [
    "AMsWpaBoidKr"
   ],
   "name": "Hindi_POS_tagging.ipynb",
   "provenance": [],
   "toc_visible": true
  },
  "kernelspec": {
   "display_name": "Python 3",
   "language": "python",
   "name": "python3"
  },
  "language_info": {
   "codemirror_mode": {
    "name": "ipython",
    "version": 3
   },
   "file_extension": ".py",
   "mimetype": "text/x-python",
   "name": "python",
   "nbconvert_exporter": "python",
   "pygments_lexer": "ipython3",
   "version": "3.7.6"
  }
 },
 "nbformat": 4,
 "nbformat_minor": 1
}
